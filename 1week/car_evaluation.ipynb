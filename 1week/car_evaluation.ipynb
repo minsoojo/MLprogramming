{
  "nbformat": 4,
  "nbformat_minor": 0,
  "metadata": {
    "colab": {
      "provenance": [],
      "mount_file_id": "19B0EMJAAAPeUP-hafCOy5L5HDhRvvSLg",
      "authorship_tag": "ABX9TyMeEqUjJwcLpteXbtQ059aL",
      "include_colab_link": true
    },
    "kernelspec": {
      "name": "python3",
      "display_name": "Python 3"
    },
    "language_info": {
      "name": "python"
    }
  },
  "cells": [
    {
      "cell_type": "markdown",
      "metadata": {
        "id": "view-in-github",
        "colab_type": "text"
      },
      "source": [
        "<a href=\"https://colab.research.google.com/github/minsoojo/MLprogramming/blob/main/car_evaluation.ipynb\" target=\"_parent\"><img src=\"https://colab.research.google.com/assets/colab-badge.svg\" alt=\"Open In Colab\"/></a>"
      ]
    },
    {
      "cell_type": "code",
      "execution_count": 9,
      "metadata": {
        "colab": {
          "base_uri": "https://localhost:8080/"
        },
        "id": "-fHa7s5wNYHh",
        "outputId": "f3ae63eb-9d2f-40c5-8d01-4334dc4439b4"
      },
      "outputs": [
        {
          "output_type": "stream",
          "name": "stdout",
          "text": [
            "=== Test Accuracy ===\n",
            "Decision Tree : 0.9855\n",
            "Random Forest : 0.9798\n",
            "Logistic Reg. : 0.6908\n"
          ]
        }
      ],
      "source": [
        "import pandas as pd\n",
        "\n",
        "from sklearn.model_selection import train_test_split\n",
        "\n",
        "from sklearn.tree import DecisionTreeClassifier\n",
        "\n",
        "from sklearn.ensemble import RandomForestClassifier\n",
        "\n",
        "from sklearn.linear_model import LogisticRegression\n",
        "\n",
        "from sklearn.metrics import accuracy_score\n",
        "\n",
        "from sklearn.preprocessing import LabelEncoder\n",
        "\n",
        "\n",
        "# -----------------------------\n",
        "\n",
        "# 1) 데이터 준비\n",
        "\n",
        "# -----------------------------\n",
        "cols = [\"buying\",\"maint\",\"doors\",\"persons\",\"lug_boot\",\"safety\",\"label\"]\n",
        "\n",
        "df = pd.read_csv(\"/content/drive/MyDrive/3-2/MLprogramming/car_evaluation.csv\", header=None, names=cols).dropna()\n",
        "\n",
        "# le_dict = {}\n",
        "for col in df.columns:\n",
        "    le = LabelEncoder()\n",
        "    df[col] = le.fit_transform(df[col])\n",
        "    #le_dict[col] = le\n",
        "#해당 라이브러리에서, 라벨 (y)는 문자 허용 피처(X)는 무조건 숫자 필요 -> encoding 필요\n",
        "#인코딩도 그냥 라이브러리 이용\n",
        "\n",
        "X = df.drop(columns=[\"label\"])\n",
        "\n",
        "y = df[\"label\"]\n",
        "\n",
        "\n",
        "\n",
        "X_train, X_test, y_train, y_test = train_test_split(\n",
        "\n",
        "    X, y, test_size=0.2, stratify=y, random_state=42\n",
        "\n",
        ")\n",
        "\n",
        "\n",
        "\n",
        "# -----------------------------\n",
        "\n",
        "# 2) 모델 구성\n",
        "\n",
        "# -----------------------------\n",
        "\n",
        "dt = DecisionTreeClassifier(random_state=42)\n",
        "\n",
        "rf = RandomForestClassifier(n_estimators=200, random_state=42)\n",
        "\n",
        "lr = LogisticRegression(max_iter=500)\n",
        "\n",
        "\n",
        "\n",
        "# -----------------------------\n",
        "\n",
        "# 3) 모델 학습\n",
        "\n",
        "# -----------------------------\n",
        "\n",
        "dt.fit(X_train, y_train)\n",
        "\n",
        "rf.fit(X_train, y_train)\n",
        "\n",
        "lr.fit(X_train, y_train)\n",
        "\n",
        "\n",
        "\n",
        "# -----------------------------\n",
        "\n",
        "# 4) 모델 평가\n",
        "\n",
        "# -----------------------------\n",
        "\n",
        "dt_acc = accuracy_score(y_test, dt.predict(X_test))\n",
        "\n",
        "rf_acc = accuracy_score(y_test, rf.predict(X_test))\n",
        "\n",
        "lr_acc = accuracy_score(y_test, lr.predict(X_test))\n",
        "\n",
        "\n",
        "\n",
        "print(\"=== Test Accuracy ===\")\n",
        "\n",
        "print(f\"Decision Tree : {dt_acc:.4f}\")\n",
        "\n",
        "print(f\"Random Forest : {rf_acc:.4f}\")\n",
        "\n",
        "print(f\"Logistic Reg. : {lr_acc:.4f}\")"
      ]
    },
    {
      "cell_type": "code",
      "source": [],
      "metadata": {
        "id": "qmZBQ3eWRCN8"
      },
      "execution_count": null,
      "outputs": []
    }
  ]
}
