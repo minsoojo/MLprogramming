{
  "nbformat": 4,
  "nbformat_minor": 0,
  "metadata": {
    "colab": {
      "provenance": [],
      "gpuType": "T4",
      "mount_file_id": "1DMjZbAJ54WJLUsuRPl4Nt_nsf9GK-fd5",
      "authorship_tag": "ABX9TyM8yDMDbL400+4B6SazCvfH"
    },
    "kernelspec": {
      "name": "python3",
      "display_name": "Python 3"
    },
    "language_info": {
      "name": "python"
    },
    "accelerator": "GPU"
  },
  "cells": [
    {
      "cell_type": "code",
      "execution_count": 1,
      "metadata": {
        "colab": {
          "base_uri": "https://localhost:8080/"
        },
        "id": "SkCPUFxz6eR3",
        "outputId": "60fed6a3-d822-480c-d917-393be1e2f609"
      },
      "outputs": [
        {
          "output_type": "stream",
          "name": "stdout",
          "text": [
            "=== Test Accuracy ===\n",
            "Decision Tree : 0.9333\n",
            "Random Forest : 0.9000\n",
            "Logistic Reg. : 0.9667\n"
          ]
        }
      ],
      "source": [
        "import pandas as pd\n",
        "\n",
        "from sklearn.model_selection import train_test_split\n",
        "\n",
        "from sklearn.tree import DecisionTreeClassifier\n",
        "\n",
        "from sklearn.ensemble import RandomForestClassifier\n",
        "\n",
        "from sklearn.linear_model import LogisticRegression\n",
        "\n",
        "from sklearn.metrics import accuracy_score\n",
        "\n",
        "\n",
        "\n",
        "# -----------------------------\n",
        "\n",
        "# 1) 데이터 준비\n",
        "\n",
        "# -----------------------------\n",
        "\n",
        "cols = [\"sepal_length\", \"sepal_width\", \"petal_length\", \"petal_width\", \"label\"]\n",
        "\n",
        "df = pd.read_csv(\"/content/drive/MyDrive/3-2/MLprogramming/iris.data\", header=None, names=cols).dropna()\n",
        "\n",
        "\n",
        "\n",
        "X = df.drop(columns=[\"label\"])\n",
        "\n",
        "y = df[\"label\"]\n",
        "\n",
        "\n",
        "\n",
        "X_train, X_test, y_train, y_test = train_test_split(\n",
        "\n",
        "    X, y, test_size=0.2, stratify=y, random_state=42\n",
        "\n",
        ")\n",
        "\n",
        "\n",
        "\n",
        "# -----------------------------\n",
        "\n",
        "# 2) 모델 구성\n",
        "\n",
        "# -----------------------------\n",
        "\n",
        "dt = DecisionTreeClassifier(random_state=42)\n",
        "\n",
        "rf = RandomForestClassifier(n_estimators=200, random_state=42)\n",
        "\n",
        "lr = LogisticRegression(max_iter=500)\n",
        "\n",
        "\n",
        "\n",
        "# -----------------------------\n",
        "\n",
        "# 3) 모델 학습\n",
        "\n",
        "# -----------------------------\n",
        "\n",
        "dt.fit(X_train, y_train)\n",
        "\n",
        "rf.fit(X_train, y_train)\n",
        "\n",
        "lr.fit(X_train, y_train)\n",
        "\n",
        "\n",
        "\n",
        "# -----------------------------\n",
        "\n",
        "# 4) 모델 평가\n",
        "\n",
        "# -----------------------------\n",
        "\n",
        "dt_acc = accuracy_score(y_test, dt.predict(X_test))\n",
        "\n",
        "rf_acc = accuracy_score(y_test, rf.predict(X_test))\n",
        "\n",
        "lr_acc = accuracy_score(y_test, lr.predict(X_test))\n",
        "\n",
        "\n",
        "\n",
        "print(\"=== Test Accuracy ===\")\n",
        "\n",
        "print(f\"Decision Tree : {dt_acc:.4f}\")\n",
        "\n",
        "print(f\"Random Forest : {rf_acc:.4f}\")\n",
        "\n",
        "print(f\"Logistic Reg. : {lr_acc:.4f}\")"
      ]
    }
  ]
}
